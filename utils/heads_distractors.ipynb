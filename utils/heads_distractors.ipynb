{
 "cells": [
  {
   "cell_type": "code",
   "execution_count": 27,
   "metadata": {
    "collapsed": true
   },
   "outputs": [],
   "source": [
    "%matplotlib inline\n",
    "\n",
    "import matplotlib\n",
    "import numpy as np\n",
    "import matplotlib.pyplot as plt\n",
    "import pandas as pd\n",
    "import os\n",
    "import json\n",
    "from annotation_utils import get_synset_first\n",
    "from collections import defaultdict"
   ]
  },
  {
   "cell_type": "code",
   "execution_count": 2,
   "metadata": {
    "collapsed": true
   },
   "outputs": [],
   "source": [
    "refdf = pd.read_json(\"../data/refcoco_refdf.json.gz\",compression='gzip', orient='split')"
   ]
  },
  {
   "cell_type": "code",
   "execution_count": 3,
   "metadata": {
    "collapsed": true
   },
   "outputs": [],
   "source": [
    "with open(\"../data/refcoco_refexp.txt.json\", 'r') as f:\n",
    "    reftxt = json.load(f)\n",
    "parsedf = pd.DataFrame(reftxt[\"sentences\"])"
   ]
  },
  {
   "cell_type": "code",
   "execution_count": 4,
   "metadata": {},
   "outputs": [
    {
     "data": {
      "text/html": [
       "<div>\n",
       "<style scoped>\n",
       "    .dataframe tbody tr th:only-of-type {\n",
       "        vertical-align: middle;\n",
       "    }\n",
       "\n",
       "    .dataframe tbody tr th {\n",
       "        vertical-align: top;\n",
       "    }\n",
       "\n",
       "    .dataframe thead th {\n",
       "        text-align: right;\n",
       "    }\n",
       "</style>\n",
       "<table border=\"1\" class=\"dataframe\">\n",
       "  <thead>\n",
       "    <tr style=\"text-align: right;\">\n",
       "      <th></th>\n",
       "      <th>basicDependencies</th>\n",
       "      <th>enhancedDependencies</th>\n",
       "      <th>enhancedPlusPlusDependencies</th>\n",
       "      <th>index</th>\n",
       "      <th>line</th>\n",
       "      <th>parse</th>\n",
       "      <th>tokens</th>\n",
       "    </tr>\n",
       "  </thead>\n",
       "  <tbody>\n",
       "    <tr>\n",
       "      <th>0</th>\n",
       "      <td>[{'dep': 'ROOT', 'governor': 0, 'governorGloss...</td>\n",
       "      <td>[{'dep': 'ROOT', 'governor': 0, 'governorGloss...</td>\n",
       "      <td>[{'dep': 'ROOT', 'governor': 0, 'governorGloss...</td>\n",
       "      <td>0</td>\n",
       "      <td>1</td>\n",
       "      <td>(ROOT\\n  (NP\\n    (NP (DT the) (NN lady))\\n   ...</td>\n",
       "      <td>[{'index': 1, 'word': 'the', 'originalText': '...</td>\n",
       "    </tr>\n",
       "    <tr>\n",
       "      <th>1</th>\n",
       "      <td>[{'dep': 'ROOT', 'governor': 0, 'governorGloss...</td>\n",
       "      <td>[{'dep': 'ROOT', 'governor': 0, 'governorGloss...</td>\n",
       "      <td>[{'dep': 'ROOT', 'governor': 0, 'governorGloss...</td>\n",
       "      <td>1</td>\n",
       "      <td>2</td>\n",
       "      <td>(ROOT\\n  (FRAG\\n    (NP (NN lady))\\n    (PP (I...</td>\n",
       "      <td>[{'index': 1, 'word': 'lady', 'originalText': ...</td>\n",
       "    </tr>\n",
       "    <tr>\n",
       "      <th>2</th>\n",
       "      <td>[{'dep': 'ROOT', 'governor': 0, 'governorGloss...</td>\n",
       "      <td>[{'dep': 'ROOT', 'governor': 0, 'governorGloss...</td>\n",
       "      <td>[{'dep': 'ROOT', 'governor': 0, 'governorGloss...</td>\n",
       "      <td>2</td>\n",
       "      <td>3</td>\n",
       "      <td>(ROOT\\n  (NP (JJ blue) (NN shirt)))</td>\n",
       "      <td>[{'index': 1, 'word': 'blue', 'originalText': ...</td>\n",
       "    </tr>\n",
       "    <tr>\n",
       "      <th>3</th>\n",
       "      <td>[{'dep': 'ROOT', 'governor': 0, 'governorGloss...</td>\n",
       "      <td>[{'dep': 'ROOT', 'governor': 0, 'governorGloss...</td>\n",
       "      <td>[{'dep': 'ROOT', 'governor': 0, 'governorGloss...</td>\n",
       "      <td>3</td>\n",
       "      <td>4</td>\n",
       "      <td>(ROOT\\n  (FRAG\\n    (NP (NN woman))\\n    (PP (...</td>\n",
       "      <td>[{'index': 1, 'word': 'woman', 'originalText':...</td>\n",
       "    </tr>\n",
       "    <tr>\n",
       "      <th>4</th>\n",
       "      <td>[{'dep': 'ROOT', 'governor': 0, 'governorGloss...</td>\n",
       "      <td>[{'dep': 'ROOT', 'governor': 0, 'governorGloss...</td>\n",
       "      <td>[{'dep': 'ROOT', 'governor': 0, 'governorGloss...</td>\n",
       "      <td>4</td>\n",
       "      <td>5</td>\n",
       "      <td>(ROOT\\n  (NP\\n    (NP (NN woman))\\n    (NP (JJ...</td>\n",
       "      <td>[{'index': 1, 'word': 'woman', 'originalText':...</td>\n",
       "    </tr>\n",
       "  </tbody>\n",
       "</table>\n",
       "</div>"
      ],
      "text/plain": [
       "                                   basicDependencies  \\\n",
       "0  [{'dep': 'ROOT', 'governor': 0, 'governorGloss...   \n",
       "1  [{'dep': 'ROOT', 'governor': 0, 'governorGloss...   \n",
       "2  [{'dep': 'ROOT', 'governor': 0, 'governorGloss...   \n",
       "3  [{'dep': 'ROOT', 'governor': 0, 'governorGloss...   \n",
       "4  [{'dep': 'ROOT', 'governor': 0, 'governorGloss...   \n",
       "\n",
       "                                enhancedDependencies  \\\n",
       "0  [{'dep': 'ROOT', 'governor': 0, 'governorGloss...   \n",
       "1  [{'dep': 'ROOT', 'governor': 0, 'governorGloss...   \n",
       "2  [{'dep': 'ROOT', 'governor': 0, 'governorGloss...   \n",
       "3  [{'dep': 'ROOT', 'governor': 0, 'governorGloss...   \n",
       "4  [{'dep': 'ROOT', 'governor': 0, 'governorGloss...   \n",
       "\n",
       "                        enhancedPlusPlusDependencies  index  line  \\\n",
       "0  [{'dep': 'ROOT', 'governor': 0, 'governorGloss...      0     1   \n",
       "1  [{'dep': 'ROOT', 'governor': 0, 'governorGloss...      1     2   \n",
       "2  [{'dep': 'ROOT', 'governor': 0, 'governorGloss...      2     3   \n",
       "3  [{'dep': 'ROOT', 'governor': 0, 'governorGloss...      3     4   \n",
       "4  [{'dep': 'ROOT', 'governor': 0, 'governorGloss...      4     5   \n",
       "\n",
       "                                               parse  \\\n",
       "0  (ROOT\\n  (NP\\n    (NP (DT the) (NN lady))\\n   ...   \n",
       "1  (ROOT\\n  (FRAG\\n    (NP (NN lady))\\n    (PP (I...   \n",
       "2                (ROOT\\n  (NP (JJ blue) (NN shirt)))   \n",
       "3  (ROOT\\n  (FRAG\\n    (NP (NN woman))\\n    (PP (...   \n",
       "4  (ROOT\\n  (NP\\n    (NP (NN woman))\\n    (NP (JJ...   \n",
       "\n",
       "                                              tokens  \n",
       "0  [{'index': 1, 'word': 'the', 'originalText': '...  \n",
       "1  [{'index': 1, 'word': 'lady', 'originalText': ...  \n",
       "2  [{'index': 1, 'word': 'blue', 'originalText': ...  \n",
       "3  [{'index': 1, 'word': 'woman', 'originalText':...  \n",
       "4  [{'index': 1, 'word': 'woman', 'originalText':...  "
      ]
     },
     "execution_count": 4,
     "metadata": {},
     "output_type": "execute_result"
    }
   ],
   "source": [
    "parsedf.head()"
   ]
  },
  {
   "cell_type": "code",
   "execution_count": 9,
   "metadata": {},
   "outputs": [
    {
     "data": {
      "text/plain": [
       "True"
      ]
     },
     "execution_count": 9,
     "metadata": {},
     "output_type": "execute_result"
    }
   ],
   "source": [
    "np.all(parsedf.basicDependencies.apply(lambda x:x[0]['dep'] == 'ROOT'))"
   ]
  },
  {
   "cell_type": "code",
   "execution_count": 11,
   "metadata": {
    "collapsed": true
   },
   "outputs": [],
   "source": [
    "heads = parsedf.basicDependencies.apply(lambda x:x[0]['dependentGloss'])"
   ]
  },
  {
   "cell_type": "code",
   "execution_count": 67,
   "metadata": {},
   "outputs": [],
   "source": [
    "heads_wn = [get_synset_first(h).name() if get_synset_first(h) else h  for h in heads]"
   ]
  },
  {
   "cell_type": "code",
   "execution_count": 68,
   "metadata": {
    "collapsed": true
   },
   "outputs": [],
   "source": [
    "refdf['dephead'] = heads"
   ]
  },
  {
   "cell_type": "code",
   "execution_count": 69,
   "metadata": {
    "collapsed": true
   },
   "outputs": [],
   "source": [
    "refdf['dephead_wn'] = heads_wn"
   ]
  },
  {
   "cell_type": "code",
   "execution_count": 71,
   "metadata": {},
   "outputs": [
    {
     "data": {
      "text/html": [
       "<div>\n",
       "<style scoped>\n",
       "    .dataframe tbody tr th:only-of-type {\n",
       "        vertical-align: middle;\n",
       "    }\n",
       "\n",
       "    .dataframe tbody tr th {\n",
       "        vertical-align: top;\n",
       "    }\n",
       "\n",
       "    .dataframe thead th {\n",
       "        text-align: right;\n",
       "    }\n",
       "</style>\n",
       "<table border=\"1\" class=\"dataframe\">\n",
       "  <thead>\n",
       "    <tr style=\"text-align: right;\">\n",
       "      <th></th>\n",
       "      <th>i_corpus</th>\n",
       "      <th>image_id</th>\n",
       "      <th>region_id</th>\n",
       "      <th>r_corpus</th>\n",
       "      <th>rex_id</th>\n",
       "      <th>refexp</th>\n",
       "      <th>tagged</th>\n",
       "      <th>dephead</th>\n",
       "      <th>dephead_wn</th>\n",
       "    </tr>\n",
       "  </thead>\n",
       "  <tbody>\n",
       "    <tr>\n",
       "      <th>0</th>\n",
       "      <td>1</td>\n",
       "      <td>581857</td>\n",
       "      <td>1719310</td>\n",
       "      <td>refcoco</td>\n",
       "      <td>0</td>\n",
       "      <td>the lady with the blue shirt</td>\n",
       "      <td>[[the, DT], [lady, NN], [with, IN], [the, DT],...</td>\n",
       "      <td>lady</td>\n",
       "      <td>lady.n.01</td>\n",
       "    </tr>\n",
       "    <tr>\n",
       "      <th>1</th>\n",
       "      <td>1</td>\n",
       "      <td>581857</td>\n",
       "      <td>1719310</td>\n",
       "      <td>refcoco</td>\n",
       "      <td>1</td>\n",
       "      <td>lady with back to us</td>\n",
       "      <td>[[lady, NN], [with, IN], [back, NN], [to, TO],...</td>\n",
       "      <td>lady</td>\n",
       "      <td>lady.n.01</td>\n",
       "    </tr>\n",
       "    <tr>\n",
       "      <th>2</th>\n",
       "      <td>1</td>\n",
       "      <td>581857</td>\n",
       "      <td>1719310</td>\n",
       "      <td>refcoco</td>\n",
       "      <td>2</td>\n",
       "      <td>blue shirt</td>\n",
       "      <td>[[blue, JJ], [shirt, NN]]</td>\n",
       "      <td>shirt</td>\n",
       "      <td>shirt.n.01</td>\n",
       "    </tr>\n",
       "    <tr>\n",
       "      <th>3</th>\n",
       "      <td>1</td>\n",
       "      <td>581857</td>\n",
       "      <td>463958</td>\n",
       "      <td>refcoco</td>\n",
       "      <td>3</td>\n",
       "      <td>woman in gray shirt facing camera on right</td>\n",
       "      <td>[[woman, NN], [in, IN], [gray, JJ], [shirt, NN...</td>\n",
       "      <td>woman</td>\n",
       "      <td>woman.n.01</td>\n",
       "    </tr>\n",
       "    <tr>\n",
       "      <th>4</th>\n",
       "      <td>1</td>\n",
       "      <td>581857</td>\n",
       "      <td>463958</td>\n",
       "      <td>refcoco</td>\n",
       "      <td>4</td>\n",
       "      <td>woman gray right</td>\n",
       "      <td>[[woman, NN], [gray, NN], [right, NN]]</td>\n",
       "      <td>woman</td>\n",
       "      <td>woman.n.01</td>\n",
       "    </tr>\n",
       "  </tbody>\n",
       "</table>\n",
       "</div>"
      ],
      "text/plain": [
       "   i_corpus  image_id  region_id r_corpus  rex_id  \\\n",
       "0         1    581857    1719310  refcoco       0   \n",
       "1         1    581857    1719310  refcoco       1   \n",
       "2         1    581857    1719310  refcoco       2   \n",
       "3         1    581857     463958  refcoco       3   \n",
       "4         1    581857     463958  refcoco       4   \n",
       "\n",
       "                                       refexp  \\\n",
       "0                the lady with the blue shirt   \n",
       "1                        lady with back to us   \n",
       "2                                  blue shirt   \n",
       "3  woman in gray shirt facing camera on right   \n",
       "4                            woman gray right   \n",
       "\n",
       "                                              tagged dephead  dephead_wn  \n",
       "0  [[the, DT], [lady, NN], [with, IN], [the, DT],...    lady   lady.n.01  \n",
       "1  [[lady, NN], [with, IN], [back, NN], [to, TO],...    lady   lady.n.01  \n",
       "2                          [[blue, JJ], [shirt, NN]]   shirt  shirt.n.01  \n",
       "3  [[woman, NN], [in, IN], [gray, JJ], [shirt, NN...   woman  woman.n.01  \n",
       "4             [[woman, NN], [gray, NN], [right, NN]]   woman  woman.n.01  "
      ]
     },
     "execution_count": 71,
     "metadata": {},
     "output_type": "execute_result"
    }
   ],
   "source": [
    "refdf.head()"
   ]
  },
  {
   "cell_type": "code",
   "execution_count": 74,
   "metadata": {
    "collapsed": true
   },
   "outputs": [],
   "source": [
    "region2names = defaultdict(list)"
   ]
  },
  {
   "cell_type": "code",
   "execution_count": 75,
   "metadata": {},
   "outputs": [],
   "source": [
    "for region_id,head_wn in zip(list(refdf['region_id']),list(refdf['dephead_wn'])):\n",
    "    region2names[region_id].append(head_wn)"
   ]
  },
  {
   "cell_type": "code",
   "execution_count": 76,
   "metadata": {},
   "outputs": [
    {
     "data": {
      "text/plain": [
       "['lady.n.01', 'lady.n.01', 'shirt.n.01']"
      ]
     },
     "execution_count": 76,
     "metadata": {},
     "output_type": "execute_result"
    }
   ],
   "source": [
    "region2names[1719310]"
   ]
  },
  {
   "cell_type": "code",
   "execution_count": 77,
   "metadata": {
    "collapsed": true
   },
   "outputs": [],
   "source": [
    "with open(\"/Volumes/data/Corpora/External/ImageCorpora/MSCOCO/annotations/instances_val2014.json\", 'r') as f:\n",
    "    coco_cats = json.load(f)['categories']"
   ]
  },
  {
   "cell_type": "code",
   "execution_count": 78,
   "metadata": {},
   "outputs": [],
   "source": [
    "cat2wn = {}\n",
    "for c in coco_cats:\n",
    "    syn = get_synset_first(c['name'])\n",
    "    if not syn:\n",
    "        syn = \"RAW:\"+c['name']\n",
    "    else:\n",
    "        syn = syn.name()\n",
    "    cat2wn[c['id']] = syn "
   ]
  },
  {
   "cell_type": "code",
   "execution_count": 79,
   "metadata": {},
   "outputs": [
    {
     "data": {
      "text/plain": [
       "{1: 'person.n.01',\n",
       " 2: 'bicycle.n.01',\n",
       " 3: 'car.n.01',\n",
       " 4: 'motorcycle.n.01',\n",
       " 5: 'airplane.n.01',\n",
       " 6: 'bus.n.01',\n",
       " 7: 'train.n.01',\n",
       " 8: 'truck.n.01',\n",
       " 9: 'boat.n.01',\n",
       " 10: 'RAW:traffic light',\n",
       " 11: 'RAW:fire hydrant',\n",
       " 13: 'RAW:stop sign',\n",
       " 14: 'RAW:parking meter',\n",
       " 15: 'bench.n.01',\n",
       " 16: 'bird.n.01',\n",
       " 17: 'cat.n.01',\n",
       " 18: 'dog.n.01',\n",
       " 19: 'horse.n.01',\n",
       " 20: 'sheep.n.01',\n",
       " 21: 'cow.n.01',\n",
       " 22: 'elephant.n.01',\n",
       " 23: 'bear.n.01',\n",
       " 24: 'zebra.n.01',\n",
       " 25: 'giraffe.n.01',\n",
       " 27: 'backpack.n.01',\n",
       " 28: 'umbrella.n.01',\n",
       " 31: 'bag.n.04',\n",
       " 32: 'necktie.n.01',\n",
       " 33: 'bag.n.06',\n",
       " 34: 'frisbee.n.01',\n",
       " 35: 'ski.n.01',\n",
       " 36: 'snowboard.n.01',\n",
       " 37: 'RAW:sports ball',\n",
       " 38: 'kite.n.01',\n",
       " 39: 'RAW:baseball bat',\n",
       " 40: 'RAW:baseball glove',\n",
       " 41: 'skateboard.n.01',\n",
       " 42: 'surfboard.n.01',\n",
       " 43: 'RAW:tennis racket',\n",
       " 44: 'bottle.n.01',\n",
       " 46: 'RAW:wine glass',\n",
       " 47: 'cup.n.01',\n",
       " 48: 'fork.n.01',\n",
       " 49: 'knife.n.01',\n",
       " 50: 'spoon.n.01',\n",
       " 51: 'bowl.n.01',\n",
       " 52: 'banana.n.01',\n",
       " 53: 'apple.n.01',\n",
       " 54: 'sandwich.n.01',\n",
       " 55: 'orange.n.01',\n",
       " 56: 'broccoli.n.01',\n",
       " 57: 'carrot.n.01',\n",
       " 58: 'RAW:hot dog',\n",
       " 59: 'pizza.n.01',\n",
       " 60: 'doughnut.n.02',\n",
       " 61: 'cake.n.01',\n",
       " 62: 'chair.n.01',\n",
       " 63: 'sofa.n.01',\n",
       " 64: 'RAW:potted plant',\n",
       " 65: 'bed.n.01',\n",
       " 67: 'RAW:dining table',\n",
       " 70: 'toilet.n.01',\n",
       " 72: 'television.n.01',\n",
       " 73: 'laptop.n.01',\n",
       " 74: 'mouse.n.01',\n",
       " 75: 'remote_control.n.01',\n",
       " 76: 'keyboard.n.01',\n",
       " 77: 'RAW:cell phone',\n",
       " 78: 'microwave.n.01',\n",
       " 79: 'oven.n.01',\n",
       " 80: 'toaster.n.01',\n",
       " 81: 'sink.n.01',\n",
       " 82: 'refrigerator.n.01',\n",
       " 84: 'book.n.01',\n",
       " 85: 'clock.n.01',\n",
       " 86: 'vase.n.01',\n",
       " 87: 'scissors.n.01',\n",
       " 88: 'RAW:teddy bear',\n",
       " 89: 'RAW:hair drier',\n",
       " 90: 'toothbrush.n.01'}"
      ]
     },
     "execution_count": 79,
     "metadata": {},
     "output_type": "execute_result"
    }
   ],
   "source": [
    "cat2wn"
   ]
  },
  {
   "cell_type": "code",
   "execution_count": 80,
   "metadata": {
    "collapsed": true
   },
   "outputs": [],
   "source": [
    "bbdf = pd.read_json(\"../data/mscoco_bbdf.json.gz\",compression='gzip', orient='split')"
   ]
  },
  {
   "cell_type": "code",
   "execution_count": 81,
   "metadata": {},
   "outputs": [
    {
     "data": {
      "text/html": [
       "<div>\n",
       "<style scoped>\n",
       "    .dataframe tbody tr th:only-of-type {\n",
       "        vertical-align: middle;\n",
       "    }\n",
       "\n",
       "    .dataframe tbody tr th {\n",
       "        vertical-align: top;\n",
       "    }\n",
       "\n",
       "    .dataframe thead th {\n",
       "        text-align: right;\n",
       "    }\n",
       "</style>\n",
       "<table border=\"1\" class=\"dataframe\">\n",
       "  <thead>\n",
       "    <tr style=\"text-align: right;\">\n",
       "      <th></th>\n",
       "      <th>i_corpus</th>\n",
       "      <th>image_id</th>\n",
       "      <th>region_id</th>\n",
       "      <th>bb</th>\n",
       "      <th>cat</th>\n",
       "    </tr>\n",
       "  </thead>\n",
       "  <tbody>\n",
       "    <tr>\n",
       "      <th>0</th>\n",
       "      <td>1</td>\n",
       "      <td>480023</td>\n",
       "      <td>86</td>\n",
       "      <td>[116.95, 305.86, 285.3, 266.03]</td>\n",
       "      <td>58</td>\n",
       "    </tr>\n",
       "    <tr>\n",
       "      <th>1</th>\n",
       "      <td>1</td>\n",
       "      <td>480023</td>\n",
       "      <td>438029</td>\n",
       "      <td>[75.23, 134.7, 203.17, 215.63]</td>\n",
       "      <td>1</td>\n",
       "    </tr>\n",
       "    <tr>\n",
       "      <th>2</th>\n",
       "      <td>1</td>\n",
       "      <td>480023</td>\n",
       "      <td>460329</td>\n",
       "      <td>[239.33, 176.98, 110.56, 133.66]</td>\n",
       "      <td>1</td>\n",
       "    </tr>\n",
       "    <tr>\n",
       "      <th>3</th>\n",
       "      <td>1</td>\n",
       "      <td>480023</td>\n",
       "      <td>498741</td>\n",
       "      <td>[394.95, 222.7, 85.05, 197.48]</td>\n",
       "      <td>1</td>\n",
       "    </tr>\n",
       "    <tr>\n",
       "      <th>4</th>\n",
       "      <td>1</td>\n",
       "      <td>480023</td>\n",
       "      <td>1200708</td>\n",
       "      <td>[0.0, 0.18, 78.96, 164.01]</td>\n",
       "      <td>1</td>\n",
       "    </tr>\n",
       "  </tbody>\n",
       "</table>\n",
       "</div>"
      ],
      "text/plain": [
       "   i_corpus  image_id  region_id                                bb  cat\n",
       "0         1    480023         86   [116.95, 305.86, 285.3, 266.03]   58\n",
       "1         1    480023     438029    [75.23, 134.7, 203.17, 215.63]    1\n",
       "2         1    480023     460329  [239.33, 176.98, 110.56, 133.66]    1\n",
       "3         1    480023     498741    [394.95, 222.7, 85.05, 197.48]    1\n",
       "4         1    480023    1200708        [0.0, 0.18, 78.96, 164.01]    1"
      ]
     },
     "execution_count": 81,
     "metadata": {},
     "output_type": "execute_result"
    }
   ],
   "source": [
    "bbdf.head()"
   ]
  },
  {
   "cell_type": "code",
   "execution_count": 82,
   "metadata": {
    "collapsed": true
   },
   "outputs": [],
   "source": [
    "images = set(bbdf.image_id)"
   ]
  },
  {
   "cell_type": "code",
   "execution_count": 83,
   "metadata": {
    "collapsed": true
   },
   "outputs": [],
   "source": [
    "image2region = {}\n",
    "image2cats = {}\n",
    "for im in images:\n",
    "    image2region[im] = list(bbdf[bbdf['image_id'] == im].region_id)\n",
    "    image2cats[im] = list(bbdf[bbdf['image_id'] == im].cat)"
   ]
  },
  {
   "cell_type": "code",
   "execution_count": 84,
   "metadata": {
    "collapsed": true
   },
   "outputs": [],
   "source": [
    "region2image = {reg:im for im in image2region for reg in image2region[im]}"
   ]
  },
  {
   "cell_type": "code",
   "execution_count": 85,
   "metadata": {},
   "outputs": [],
   "source": [
    "region_dict = []\n",
    "for reg in region2names:\n",
    "    distr = image2region[region2image[reg]]\n",
    "    target_index = distr.index(reg)\n",
    "    distr = distr[:target_index]+distr[target_index+1:]\n",
    "    cats = image2cats[region2image[reg]]\n",
    "    target_cat = cat2wn[cats[target_index]]\n",
    "    distr_cats = cats[:target_index]+cats[target_index+1:]\n",
    "    distr_cats = [cat2wn[c] for c in distr_cats]\n",
    "    d = {'region_id':reg,\n",
    "          'image_id':region2image[reg],\n",
    "         'names':region2names[reg],\n",
    "         'distractor_ids':distr,\n",
    "         'region_cat':target_cat,\n",
    "         'distractor_cats':distr_cats\n",
    "        }\n",
    "    region_dict.append(d)"
   ]
  },
  {
   "cell_type": "code",
   "execution_count": 86,
   "metadata": {},
   "outputs": [
    {
     "data": {
      "text/plain": [
       "50000"
      ]
     },
     "execution_count": 86,
     "metadata": {},
     "output_type": "execute_result"
    }
   ],
   "source": [
    "len(region_dict)"
   ]
  },
  {
   "cell_type": "code",
   "execution_count": 88,
   "metadata": {},
   "outputs": [],
   "source": [
    "regiondf = pd.DataFrame(region_dict)"
   ]
  },
  {
   "cell_type": "code",
   "execution_count": 89,
   "metadata": {
    "collapsed": true
   },
   "outputs": [],
   "source": [
    "regiondf.to_json(\"../data/refcoco_regions_distractors.json.gz\", compression='gzip', orient='split')"
   ]
  },
  {
   "cell_type": "code",
   "execution_count": null,
   "metadata": {
    "collapsed": true
   },
   "outputs": [],
   "source": []
  },
  {
   "cell_type": "code",
   "execution_count": null,
   "metadata": {
    "collapsed": true
   },
   "outputs": [],
   "source": []
  },
  {
   "cell_type": "code",
   "execution_count": null,
   "metadata": {
    "collapsed": true
   },
   "outputs": [],
   "source": []
  }
 ],
 "metadata": {
  "kernelspec": {
   "display_name": "Python 3",
   "language": "python",
   "name": "python3"
  },
  "language_info": {
   "codemirror_mode": {
    "name": "ipython",
    "version": 3
   },
   "file_extension": ".py",
   "mimetype": "text/x-python",
   "name": "python",
   "nbconvert_exporter": "python",
   "pygments_lexer": "ipython3",
   "version": "3.6.3"
  }
 },
 "nbformat": 4,
 "nbformat_minor": 2
}
